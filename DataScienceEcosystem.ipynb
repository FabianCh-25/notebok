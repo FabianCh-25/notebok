{
  "cells": [
    {
      "cell_type": "markdown",
      "metadata": {
        "id": "YxFLdjrNzRj4"
      },
      "source": [
        "<center>\n",
        "    <img src=\"https://cf-courses-data.s3.us.cloud-object-storage.appdomain.cloud/IBMDeveloperSkillsNetwork-DS0105EN-SkillsNetwork/labs/Module2/images/SN_web_lightmode.png\" width=\"300\" alt=\"cognitiveclass.ai logo\">\n",
        "</center>\n"
      ]
    },
    {
      "cell_type": "markdown",
      "metadata": {
        "id": "ZE7resp_zRj5"
      },
      "source": [
        "#### Add your code below following the instructions given in the course\n"
      ]
    },
    {
      "cell_type": "markdown",
      "source": [
        "# **DataScienceEcosystem**"
      ],
      "metadata": {
        "id": "9rdrj8W90Uhl"
      }
    },
    {
      "cell_type": "markdown",
      "source": [
        "\"In this notebook, Data Science Tools and Ecosystem are summarized.\"\n"
      ],
      "metadata": {
        "id": "qttfp4mm0jZy"
      }
    },
    {
      "cell_type": "markdown",
      "source": [
        "**Lenguages de Ceincia de datos:**\n",
        "\n",
        "\n",
        "\n",
        "1.   Python\n",
        "2.   R\n",
        "3.   Rust\n",
        "4.   Matlab\n",
        "\n"
      ],
      "metadata": {
        "id": "3nOQea2B0nu9"
      }
    },
    {
      "cell_type": "markdown",
      "source": [
        "**Librerias de Ceincia de datos:**\n",
        "\n",
        "\n",
        "\n",
        "1.   Tensorflow\n",
        "2.   Keras\n",
        "3.   Plotly\n",
        "4.   Numpy\n",
        "5.   Pandas\n",
        "\n"
      ],
      "metadata": {
        "id": "rjq7Jnzq1LzZ"
      }
    },
    {
      "cell_type": "code",
      "source": [
        "\n",
        "# Data Science Tools\n",
        "# | Data Science Tools |\n",
        "# | -------------|\n",
        "# | Jupyter Notebook |\n",
        "# | RStudio |\n",
        "# | Spyder |\n"
      ],
      "metadata": {
        "id": "_RaAUTeI0r39"
      },
      "execution_count": 1,
      "outputs": []
    },
    {
      "cell_type": "code",
      "source": [
        "#This a simple arithmetic expression to mutiply then add integers\n",
        "(3*4)+5\n",
        "\n",
        "#This will convert 200 minutes to hours by diving by 60\n",
        "200 / 60\n"
      ],
      "metadata": {
        "id": "9Gm-Xi1d1kZr"
      },
      "execution_count": null,
      "outputs": []
    },
    {
      "cell_type": "code",
      "source": [
        "# Multiplica dos números y luego suma otro número\n",
        "def multiplica_suma(num1, num2, num3):\n",
        "  \"\"\"\n",
        "  Esta función multiplica dos números y luego suma un tercer número.\n",
        "\n",
        "  Args:\n",
        "    num1: El primer número.\n",
        "    num2: El segundo número.\n",
        "    num3: El tercer número.\n",
        "\n",
        "  Returns:\n",
        "    El resultado de la multiplicación y suma.\n",
        "  \"\"\"\n",
        "  return (num1 * num2) + num3\n",
        "\n",
        "# Ejemplo de uso\n",
        "resultado = multiplica_suma(3, 4, 5)\n",
        "print(\"El resultado de la operación es:\", resultado)\n"
      ],
      "metadata": {
        "id": "WbiYcoNC1vCK"
      },
      "execution_count": null,
      "outputs": []
    },
    {
      "cell_type": "code",
      "source": [
        "\n",
        "def minutos_a_horas(minutos):\n",
        "  \"\"\"\n",
        "  Convierte minutos a horas.\n",
        "\n",
        "  Args:\n",
        "    minutos: El número de minutos a convertir.\n",
        "\n",
        "  Returns:\n",
        "    El número de horas equivalente.\n",
        "  \"\"\"\n",
        "  return minutos / 60\n",
        "\n",
        "minutos = 200\n",
        "horas = minutos_a_horas(minutos)\n",
        "print(f\"{minutos} minutos son equivalentes a {horas} horas.\")\n"
      ],
      "metadata": {
        "colab": {
          "base_uri": "https://localhost:8080/"
        },
        "id": "h8Tlh6v51zQ7",
        "outputId": "151ac0b3-5037-4a16-af70-12d7debedead"
      },
      "execution_count": 2,
      "outputs": [
        {
          "output_type": "stream",
          "name": "stdout",
          "text": [
            "200 minutos son equivalentes a 3.3333333333333335 horas.\n"
          ]
        }
      ]
    },
    {
      "cell_type": "code",
      "source": [
        "\n",
        "# Data Science Tools and Ecosystem\n",
        "# In this notebook, Data Science Tools and Ecosystem are summarized.\n",
        "# Objectives:\n",
        "# List popular languages for Data Science\n",
        "# List commonly used libraries used by Data Scientists\n",
        "# Comment on Data Science tools\n",
        "# Evaluate arithmetic expressions in Python\n",
        "\n",
        "\n"
      ],
      "metadata": {
        "id": "QZOiBHQ614Qi"
      },
      "execution_count": 3,
      "outputs": []
    },
    {
      "cell_type": "code",
      "source": [
        "\n",
        "# Author: Fabian Ch\n"
      ],
      "metadata": {
        "id": "TUAjNxG-1-Bb"
      },
      "execution_count": null,
      "outputs": []
    },
    {
      "cell_type": "markdown",
      "source": [
        "## ***Author: Fabian Ch***"
      ],
      "metadata": {
        "id": "z855KTEG2KPZ"
      }
    }
  ],
  "metadata": {
    "kernelspec": {
      "display_name": "Python",
      "language": "python",
      "name": "conda-env-python-py"
    },
    "language_info": {
      "name": ""
    },
    "colab": {
      "provenance": []
    }
  },
  "nbformat": 4,
  "nbformat_minor": 0
}